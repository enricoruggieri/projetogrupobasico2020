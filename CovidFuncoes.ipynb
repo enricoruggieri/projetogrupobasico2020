{
 "cells": [
  {
   "cell_type": "code",
   "execution_count": 2,
   "metadata": {},
   "outputs": [],
   "source": [
    "import matplotlib.pyplot as plt\n",
    "import pandas as pd"
   ]
  },
  {
   "cell_type": "code",
   "execution_count": 3,
   "metadata": {},
   "outputs": [],
   "source": [
    "covid_dados = pd.read_csv('owid-covid-data.csv')"
   ]
  },
  {
   "cell_type": "code",
   "execution_count": 4,
   "metadata": {},
   "outputs": [],
   "source": [
    "def scatter_dois_dados(dados, x, y, typex=0, typey=0, padrao='location'):\n",
    "    if typex == 0:\n",
    "        eixox = list(dados.groupby([padrao])[x].sum())\n",
    "    else:\n",
    "        eixox = list(dados.groupby([padrao])[x].mean())\n",
    "    if typey == 0:\n",
    "        eixoy = list(dados.groupby([padrao])[y].sum())\n",
    "    else:\n",
    "        eixoy = list(dados.groupby([padrao])[y].mean())\n",
    "                     \n",
    "    plt.scatter(eixox, eixoy)\n",
    "    x = x.replace(\"_\", \" \").upper() \n",
    "    y = y.replace(\"_\", \" \").upper()\n",
    "    plt.xlabel(x)\n",
    "    plt.ylabel(y)\n",
    "    plt.title(f\"{x} X {y}\")\n",
    "    plt.show()\n",
    "                     "
   ]
  },
  {
   "cell_type": "code",
   "execution_count": 6,
   "metadata": {},
   "outputs": [
    {
     "name": "stdout",
     "output_type": "stream",
     "text": [
      "location\n",
      "Afghanistan        158343.647\n",
      "Albania            557219.753\n",
      "Algeria            145033.904\n",
      "Andorra           4407364.256\n",
      "Angola              17223.646\n",
      "                     ...     \n",
      "Western Sahara     171121.476\n",
      "World              550879.542\n",
      "Yemen                9406.215\n",
      "Zambia              83875.798\n",
      "Zimbabwe            54053.492\n",
      "Name: total_cases_per_million, Length: 216, dtype: float64\n"
     ]
    }
   ],
   "source": [
    "print(covid_dados.groupby('location')['total_cases_per_million'].sum())"
   ]
  },
  {
   "cell_type": "code",
   "execution_count": 36,
   "metadata": {},
   "outputs": [
    {
     "data": {
      "image/png": "[encoded data removed]",
      "text/plain": [
       "<Figure size 432x288 with 1 Axes>"
      ]
     },
     "metadata": {
      "needs_background": "light"
     },
     "output_type": "display_data"
    }
   ],
   "source": [
    "a = scatter_dois_dados(covid_dados, 'human_development_index', 'total_cases_per_million', typex=1, padrao='iso_code')"
   ]
  },
  {
   "cell_type": "code",
   "execution_count": 37,
   "metadata": {},
   "outputs": [],
   "source": [
    "def histog_dado(dados, h, typeh=0, padrao='continent'):\n",
    "    index = list((dados.groupby([padrao])[h].sum()).index)\n",
    "    if typeh == 0:\n",
    "        h = list(dados.groupby([padrao])[h].sum())\n",
    "    else:\n",
    "        h = list(dados.groupby([padrao])[h].mean())\n",
    "    plt.bar(index, h)\n",
    "    "
   ]
  },
  {
   "cell_type": "code",
   "execution_count": 38,
   "metadata": {},
   "outputs": [
    {
     "data": {
      "image/png": "[encoded data removed]",
      "text/plain": [
       "<Figure size 432x288 with 1 Axes>"
      ]
     },
     "metadata": {
      "needs_background": "light"
     },
     "output_type": "display_data"
    }
   ],
   "source": [
    "histog_dado(covid_dados, 'human_development_index', typeh=1)"
   ]
  },
  {
   "cell_type": "code",
   "execution_count": null,
   "metadata": {},
   "outputs": [],
   "source": [
    "def regressao_linear(dados,x,y)\n",
    "    dados1=dados[['location',x]]\n",
    "    dados1 = dados1.drop_duplicates(subset=['location'],keep='last')\n",
    "    dados1.set_index('location', inplace=True)\n",
    "    dados1 = dados1.drop(['World','International'],axis=0)\n",
    "    dados2=dados[['location',x]]\n",
    "    dados2 = dados1.drop_duplicates(subset=['location'],keep='last')\n",
    "    dados2.set_index('location', inplace=True)\n",
    "    dados2 = dados1.drop(['World','International'],axis=0)\n",
    "    dados1=dados1.join(dados2,how='outer')\n",
    "    x=np.array(covidnovo['gdp_per_capita'])\n",
    "    y=np.array(covidnovo['total_deaths_per_million'])\n",
    "    plt.scatter(x,y)\n",
    "    x[np.isnan(x)] = 0\n",
    "    y[np.isnan(y)] = 0\n",
    "    print(x)\n",
    "    #regressão linear simples\n",
    "    m, b = np.polyfit(x, y, 1)\n",
    "    #m = slope, b=intercept\n",
    "    plt.plot(x, m*x + b)\n",
    "#print(x)\n",
    "#print(y)\n",
    "    plt.ylabel(\"y\")\n",
    "    plt.xlabel(\"x\")\n",
    "    plt.title(\"Países: Pib per capita x Mortes por Milhão \")\n",
    "    plt.show()"
   ]
  }
 ],
 "metadata": {
  "kernelspec": {
   "display_name": "Python 3",
   "language": "python",
   "name": "python3"
  },
  "language_info": {
   "codemirror_mode": {
    "name": "ipython",
    "version": 3
   },
   "file_extension": ".py",
   "mimetype": "text/x-python",
   "name": "python",
   "nbconvert_exporter": "python",
   "pygments_lexer": "ipython3",
   "version": "3.7.6"
  }
 },
 "nbformat": 4,
 "nbformat_minor": 4
}
